{
 "cells": [
  {
   "cell_type": "markdown",
   "source": "#### Split Test Analysis\n\nWorking on Cobra Kai, a fictional combat card game, you recently introduced a new special bundle containing various characters as an A/B/C/D pricing test.\n\nGiven the test details below, and the data included in the tab 'SECTION 2 DATA', please analyze the results of the test and provide recommendations on further actions.\t\n\t\n| Group &nbsp;&nbsp;&nbsp;&nbsp;&nbsp;&nbsp;&nbsp;&nbsp;&nbsp;  | Split&nbsp;&nbsp;&nbsp;&nbsp;&nbsp;&nbsp;&nbsp;&nbsp;&nbsp; | Price&nbsp;&nbsp;&nbsp;&nbsp;&nbsp;&nbsp;&nbsp;&nbsp;&nbsp; | Discount Ratio |\n|:---    |-------|-------|----------------|\n| Control | 10%   | N/A   | N/A            |\n| Case A  | 30%   | $2,99 | 50%            |\n| Case B  | 30%   | $6,99 | 50%            |\n| Case C  | 30%   | $9,99 | 50%            |\n\n&nbsp;  \n• The test ran for 30 days on iOS only, targeting all users, starting on the 15/03/2017  \n• The data includes 14 days before the start of the test, from 01/03 to 14/03  \n• The bundle composition was adapted to provide the same discount value to each user  \n• The car quality, type and class split were kept the same across the different bundles  \n• The bundles consisted of completely new cars, which were only available to buy through these offers  \n• The normal *HC packs of the game are priced \\$ 1.99 / \\$ 4.99 / \\$ 9.99 / \\$ 19.99 / \\$ 49.99 / \\$ 99.99  \n\n**HC=hard currency (currency purchased with real money)*\n",
   "metadata": {
    "cell_id": "bf2e22fe080d44fab3f32752f32f54b3",
    "tags": [],
    "deepnote_cell_type": "markdown",
    "deepnote_cell_height": 919.859375
   }
  },
  {
   "cell_type": "markdown",
   "source": "### Data Preparation",
   "metadata": {
    "cell_id": "8eef47938bff4fe8a548bfe6e2dcbaac",
    "tags": [],
    "deepnote_cell_type": "markdown",
    "deepnote_cell_height": 62
   }
  },
  {
   "cell_type": "code",
   "metadata": {
    "tags": [],
    "cell_id": "a8644322-e363-4973-8a87-6d96e2e39d12",
    "deepnote_to_be_reexecuted": false,
    "source_hash": "bc8a5bef",
    "execution_start": 1648313059430,
    "execution_millis": 9922,
    "deepnote_cell_type": "code",
    "deepnote_cell_height": 262.75
   },
   "source": "# Importing libraries\n!pip install openpyxl\nimport pandas as pd\nimport numpy as np\nimport matplotlib.pyplot as plt\nimport matplotlib.dates as mdates",
   "execution_count": 1,
   "outputs": [
    {
     "name": "stdout",
     "text": "Requirement already satisfied: openpyxl in /root/venv/lib/python3.7/site-packages (3.0.9)\nRequirement already satisfied: et-xmlfile in /root/venv/lib/python3.7/site-packages (from openpyxl) (1.1.0)\n\u001b[33mWARNING: You are using pip version 20.1.1; however, version 22.0.4 is available.\nYou should consider upgrading via the '/root/venv/bin/python -m pip install --upgrade pip' command.\u001b[0m\n",
     "output_type": "stream"
    }
   ]
  },
  {
   "cell_type": "code",
   "metadata": {
    "cell_id": "00ea95ff-aa39-4bc7-909b-120783322e08",
    "tags": [],
    "deepnote_to_be_reexecuted": false,
    "source_hash": "53115f53",
    "execution_start": 1648313121653,
    "execution_millis": 1617,
    "deepnote_cell_type": "code",
    "deepnote_cell_height": 446
   },
   "source": "# Importing the data\ndf = pd.read_excel('./files/data/data_raw.xlsx', skiprows=4)\ndf.head()",
   "execution_count": 12,
   "outputs": [
    {
     "output_type": "execute_result",
     "execution_count": 12,
     "data": {
      "application/vnd.deepnote.dataframe.v3+json": {
       "column_count": 26,
       "row_count": 5,
       "columns": [
        {
         "name": "Date",
         "dtype": "datetime64[ns]",
         "stats": {
          "unique_count": 5,
          "nan_count": 0,
          "min": "2017-03-01 00:00:00",
          "max": "2017-03-05 00:00:00",
          "histogram": [
           {
            "bin_start": 1488326400000000000,
            "bin_end": 1488360960000000000,
            "count": 1
           },
           {
            "bin_start": 1488360960000000000,
            "bin_end": 1488395520000000000,
            "count": 0
           },
           {
            "bin_start": 1488395520000000000,
            "bin_end": 1488430080000000000,
            "count": 1
           },
           {
            "bin_start": 1488430080000000000,
            "bin_end": 1488464640000000000,
            "count": 0
           },
           {
            "bin_start": 1488464640000000000,
            "bin_end": 1488499200000000000,
            "count": 0
           },
           {
            "bin_start": 1488499200000000000,
            "bin_end": 1488533760000000000,
            "count": 1
           },
           {
            "bin_start": 1488533760000000000,
            "bin_end": 1488568320000000000,
            "count": 0
           },
           {
            "bin_start": 1488568320000000000,
            "bin_end": 1488602880000000000,
            "count": 1
           },
           {
            "bin_start": 1488602880000000000,
            "bin_end": 1488637440000000000,
            "count": 0
           },
           {
            "bin_start": 1488637440000000000,
            "bin_end": 1488672000000000000,
            "count": 1
           }
          ]
         }
        },
        {
         "name": "Group",
         "dtype": "object",
         "stats": {
          "unique_count": 1,
          "nan_count": 0,
          "categories": [
           {
            "name": "control",
            "count": 5
           }
          ]
         }
        },
        {
         "name": "DAU",
         "dtype": "int64",
         "stats": {
          "unique_count": 5,
          "nan_count": 0,
          "min": "340743",
          "max": "413060",
          "histogram": [
           {
            "bin_start": 340743,
            "bin_end": 347974.7,
            "count": 2
           },
           {
            "bin_start": 347974.7,
            "bin_end": 355206.4,
            "count": 0
           },
           {
            "bin_start": 355206.4,
            "bin_end": 362438.1,
            "count": 0
           },
           {
            "bin_start": 362438.1,
            "bin_end": 369669.8,
            "count": 0
           },
           {
            "bin_start": 369669.8,
            "bin_end": 376901.5,
            "count": 0
           },
           {
            "bin_start": 376901.5,
            "bin_end": 384133.2,
            "count": 0
           },
           {
            "bin_start": 384133.2,
            "bin_end": 391364.9,
            "count": 1
           },
           {
            "bin_start": 391364.9,
            "bin_end": 398596.6,
            "count": 0
           },
           {
            "bin_start": 398596.6,
            "bin_end": 405828.3,
            "count": 1
           },
           {
            "bin_start": 405828.3,
            "bin_end": 413060,
            "count": 1
           }
          ]
         }
        },
        {
         "name": "Revenue",
         "dtype": "int64",
         "stats": {
          "unique_count": 5,
          "nan_count": 0,
          "min": "16067",
          "max": "19794",
          "histogram": [
           {
            "bin_start": 16067,
            "bin_end": 16439.7,
            "count": 2
           },
           {
            "bin_start": 16439.7,
            "bin_end": 16812.4,
            "count": 0
           },
           {
            "bin_start": 16812.4,
            "bin_end": 17185.1,
            "count": 1
           },
           {
            "bin_start": 17185.1,
            "bin_end": 17557.8,
            "count": 0
           },
           {
            "bin_start": 17557.8,
            "bin_end": 17930.5,
            "count": 0
           },
           {
            "bin_start": 17930.5,
            "bin_end": 18303.2,
            "count": 1
           },
           {
            "bin_start": 18303.2,
            "bin_end": 18675.9,
            "count": 0
           },
           {
            "bin_start": 18675.9,
            "bin_end": 19048.6,
            "count": 0
           },
           {
            "bin_start": 19048.6,
            "bin_end": 19421.3,
            "count": 0
           },
           {
            "bin_start": 19421.3,
            "bin_end": 19794,
            "count": 1
           }
          ]
         }
        },
        {
         "name": "PAU/DAU",
         "dtype": "float64",
         "stats": {
          "unique_count": 5,
          "nan_count": 0,
          "min": "0.006887352385753139",
          "max": "0.007807473309560984",
          "histogram": [
           {
            "bin_start": 0.006887352385753139,
            "bin_end": 0.006979364478133923,
            "count": 1
           },
           {
            "bin_start": 0.006979364478133923,
            "bin_end": 0.007071376570514708,
            "count": 0
           },
           {
            "bin_start": 0.007071376570514708,
            "bin_end": 0.0071633886628954925,
            "count": 1
           },
           {
            "bin_start": 0.0071633886628954925,
            "bin_end": 0.007255400755276277,
            "count": 0
           },
           {
            "bin_start": 0.007255400755276277,
            "bin_end": 0.007347412847657062,
            "count": 1
           },
           {
            "bin_start": 0.007347412847657062,
            "bin_end": 0.007439424940037846,
            "count": 0
           },
           {
            "bin_start": 0.007439424940037846,
            "bin_end": 0.0075314370324186305,
            "count": 1
           },
           {
            "bin_start": 0.0075314370324186305,
            "bin_end": 0.007623449124799415,
            "count": 0
           },
           {
            "bin_start": 0.007623449124799415,
            "bin_end": 0.0077154612171802,
            "count": 0
           },
           {
            "bin_start": 0.0077154612171802,
            "bin_end": 0.007807473309560984,
            "count": 1
           }
          ]
         }
        },
        {
         "name": "PAU (Paying Active Users)",
         "dtype": "int64",
         "stats": {
          "unique_count": 5,
          "nan_count": 0,
          "min": "2426",
          "max": "3117",
          "histogram": [
           {
            "bin_start": 2426,
            "bin_end": 2495.1,
            "count": 1
           },
           {
            "bin_start": 2495.1,
            "bin_end": 2564.2,
            "count": 0
           },
           {
            "bin_start": 2564.2,
            "bin_end": 2633.3,
            "count": 1
           },
           {
            "bin_start": 2633.3,
            "bin_end": 2702.4,
            "count": 1
           },
           {
            "bin_start": 2702.4,
            "bin_end": 2771.5,
            "count": 0
           },
           {
            "bin_start": 2771.5,
            "bin_end": 2840.6,
            "count": 0
           },
           {
            "bin_start": 2840.6,
            "bin_end": 2909.7,
            "count": 0
           },
           {
            "bin_start": 2909.7,
            "bin_end": 2978.8,
            "count": 0
           },
           {
            "bin_start": 2978.8,
            "bin_end": 3047.9,
            "count": 1
           },
           {
            "bin_start": 3047.9,
            "bin_end": 3117,
            "count": 1
           }
          ]
         }
        },
        {
         "name": "ARPU",
         "dtype": "float64",
         "stats": {
          "unique_count": 5,
          "nan_count": 0,
          "min": "0.0406018653015838",
          "max": "0.0575457161961799",
          "histogram": [
           {
            "bin_start": 0.0406018653015838,
            "bin_end": 0.04229625039104341,
            "count": 2
           },
           {
            "bin_start": 0.04229625039104341,
            "bin_end": 0.04399063548050302,
            "count": 0
           },
           {
            "bin_start": 0.04399063548050302,
            "bin_end": 0.04568502056996263,
            "count": 0
           },
           {
            "bin_start": 0.04568502056996263,
            "bin_end": 0.04737940565942224,
            "count": 2
           },
           {
            "bin_start": 0.04737940565942224,
            "bin_end": 0.04907379074888185,
            "count": 0
           },
           {
            "bin_start": 0.04907379074888185,
            "bin_end": 0.050768175838341464,
            "count": 0
           },
           {
            "bin_start": 0.050768175838341464,
            "bin_end": 0.05246256092780107,
            "count": 0
           },
           {
            "bin_start": 0.05246256092780107,
            "bin_end": 0.05415694601726068,
            "count": 0
           },
           {
            "bin_start": 0.05415694601726068,
            "bin_end": 0.05585133110672029,
            "count": 0
           },
           {
            "bin_start": 0.05585133110672029,
            "bin_end": 0.0575457161961799,
            "count": 1
           }
          ]
         }
        },
        {
         "name": "ARPPU",
         "dtype": "float64",
         "stats": {
          "unique_count": 5,
          "nan_count": 0,
          "min": "5.201154956689124",
          "max": "7.681024447031432",
          "histogram": [
           {
            "bin_start": 5.201154956689124,
            "bin_end": 5.449141905723355,
            "count": 1
           },
           {
            "bin_start": 5.449141905723355,
            "bin_end": 5.697128854757586,
            "count": 1
           },
           {
            "bin_start": 5.697128854757586,
            "bin_end": 5.945115803791817,
            "count": 0
           },
           {
            "bin_start": 5.945115803791817,
            "bin_end": 6.193102752826047,
            "count": 0
           },
           {
            "bin_start": 6.193102752826047,
            "bin_end": 6.441089701860278,
            "count": 0
           },
           {
            "bin_start": 6.441089701860278,
            "bin_end": 6.689076650894509,
            "count": 1
           },
           {
            "bin_start": 6.689076650894509,
            "bin_end": 6.93706359992874,
            "count": 1
           },
           {
            "bin_start": 6.93706359992874,
            "bin_end": 7.185050548962971,
            "count": 0
           },
           {
            "bin_start": 7.185050548962971,
            "bin_end": 7.433037497997201,
            "count": 0
           },
           {
            "bin_start": 7.433037497997201,
            "bin_end": 7.681024447031432,
            "count": 1
           }
          ]
         }
        },
        {
         "name": "Transactions",
         "dtype": "float64",
         "stats": {
          "unique_count": 5,
          "nan_count": 0,
          "min": "4416.350040232279",
          "max": "5564.455359801203",
          "histogram": [
           {
            "bin_start": 4416.350040232279,
            "bin_end": 4531.160572189171,
            "count": 1
           },
           {
            "bin_start": 4531.160572189171,
            "bin_end": 4645.971104146063,
            "count": 0
           },
           {
            "bin_start": 4645.971104146063,
            "bin_end": 4760.781636102956,
            "count": 0
           },
           {
            "bin_start": 4760.781636102956,
            "bin_end": 4875.5921680598485,
            "count": 1
           },
           {
            "bin_start": 4875.5921680598485,
            "bin_end": 4990.402700016741,
            "count": 0
           },
           {
            "bin_start": 4990.402700016741,
            "bin_end": 5105.213231973633,
            "count": 0
           },
           {
            "bin_start": 5105.213231973633,
            "bin_end": 5220.023763930525,
            "count": 0
           },
           {
            "bin_start": 5220.023763930525,
            "bin_end": 5334.834295887418,
            "count": 1
           },
           {
            "bin_start": 5334.834295887418,
            "bin_end": 5449.64482784431,
            "count": 0
           },
           {
            "bin_start": 5449.64482784431,
            "bin_end": 5564.455359801203,
            "count": 2
           }
          ]
         }
        },
        {
         "name": "Car bundle A // 2.99$",
         "dtype": "int64",
         "stats": {
          "unique_count": 1,
          "nan_count": 0,
          "min": "0",
          "max": "0",
          "histogram": [
           {
            "bin_start": -0.5,
            "bin_end": -0.4,
            "count": 0
           },
           {
            "bin_start": -0.4,
            "bin_end": -0.3,
            "count": 0
           },
           {
            "bin_start": -0.3,
            "bin_end": -0.19999999999999996,
            "count": 0
           },
           {
            "bin_start": -0.19999999999999996,
            "bin_end": -0.09999999999999998,
            "count": 0
           },
           {
            "bin_start": -0.09999999999999998,
            "bin_end": 0,
            "count": 0
           },
           {
            "bin_start": 0,
            "bin_end": 0.10000000000000009,
            "count": 5
           },
           {
            "bin_start": 0.10000000000000009,
            "bin_end": 0.20000000000000007,
            "count": 0
           },
           {
            "bin_start": 0.20000000000000007,
            "bin_end": 0.30000000000000004,
            "count": 0
           },
           {
            "bin_start": 0.30000000000000004,
            "bin_end": 0.4,
            "count": 0
           },
           {
            "bin_start": 0.4,
            "bin_end": 0.5,
            "count": 0
           }
          ]
         }
        },
        {
         "name": "Car bundle B // 6.99$",
         "dtype": "int64",
         "stats": {
          "unique_count": 1,
          "nan_count": 0,
          "min": "0",
          "max": "0",
          "histogram": [
           {
            "bin_start": -0.5,
            "bin_end": -0.4,
            "count": 0
           },
           {
            "bin_start": -0.4,
            "bin_end": -0.3,
            "count": 0
           },
           {
            "bin_start": -0.3,
            "bin_end": -0.19999999999999996,
            "count": 0
           },
           {
            "bin_start": -0.19999999999999996,
            "bin_end": -0.09999999999999998,
            "count": 0
           },
           {
            "bin_start": -0.09999999999999998,
            "bin_end": 0,
            "count": 0
           },
           {
            "bin_start": 0,
            "bin_end": 0.10000000000000009,
            "count": 5
           },
           {
            "bin_start": 0.10000000000000009,
            "bin_end": 0.20000000000000007,
            "count": 0
           },
           {
            "bin_start": 0.20000000000000007,
            "bin_end": 0.30000000000000004,
            "count": 0
           },
           {
            "bin_start": 0.30000000000000004,
            "bin_end": 0.4,
            "count": 0
           },
           {
            "bin_start": 0.4,
            "bin_end": 0.5,
            "count": 0
           }
          ]
         }
        },
        {
         "name": "Car bundle C // 9.99$",
         "dtype": "int64",
         "stats": {
          "unique_count": 1,
          "nan_count": 0,
          "min": "0",
          "max": "0",
          "histogram": [
           {
            "bin_start": -0.5,
            "bin_end": -0.4,
            "count": 0
           },
           {
            "bin_start": -0.4,
            "bin_end": -0.3,
            "count": 0
           },
           {
            "bin_start": -0.3,
            "bin_end": -0.19999999999999996,
            "count": 0
           },
           {
            "bin_start": -0.19999999999999996,
            "bin_end": -0.09999999999999998,
            "count": 0
           },
           {
            "bin_start": -0.09999999999999998,
            "bin_end": 0,
            "count": 0
           },
           {
            "bin_start": 0,
            "bin_end": 0.10000000000000009,
            "count": 5
           },
           {
            "bin_start": 0.10000000000000009,
            "bin_end": 0.20000000000000007,
            "count": 0
           },
           {
            "bin_start": 0.20000000000000007,
            "bin_end": 0.30000000000000004,
            "count": 0
           },
           {
            "bin_start": 0.30000000000000004,
            "bin_end": 0.4,
            "count": 0
           },
           {
            "bin_start": 0.4,
            "bin_end": 0.5,
            "count": 0
           }
          ]
         }
        },
        {
         "name": "Pack 1 // 1.99$",
         "dtype": "float64",
         "stats": {
          "unique_count": 5,
          "nan_count": 0,
          "min": "977.0",
          "max": "1484.0",
          "histogram": [
           {
            "bin_start": 977,
            "bin_end": 1027.7,
            "count": 1
           },
           {
            "bin_start": 1027.7,
            "bin_end": 1078.4,
            "count": 2
           },
           {
            "bin_start": 1078.4,
            "bin_end": 1129.1,
            "count": 0
           },
           {
            "bin_start": 1129.1,
            "bin_end": 1179.8,
            "count": 0
           },
           {
            "bin_start": 1179.8,
            "bin_end": 1230.5,
            "count": 0
           },
           {
            "bin_start": 1230.5,
            "bin_end": 1281.2,
            "count": 0
           },
           {
            "bin_start": 1281.2,
            "bin_end": 1331.9,
            "count": 1
           },
           {
            "bin_start": 1331.9,
            "bin_end": 1382.6,
            "count": 0
           },
           {
            "bin_start": 1382.6,
            "bin_end": 1433.3,
            "count": 0
           },
           {
            "bin_start": 1433.3,
            "bin_end": 1484,
            "count": 1
           }
          ]
         }
        },
        {
         "name": "Pack 2 // 4.99$",
         "dtype": "float64",
         "stats": {
          "unique_count": 5,
          "nan_count": 0,
          "min": "1183.0",
          "max": "1356.0",
          "histogram": [
           {
            "bin_start": 1183,
            "bin_end": 1200.3,
            "count": 1
           },
           {
            "bin_start": 1200.3,
            "bin_end": 1217.6,
            "count": 1
           },
           {
            "bin_start": 1217.6,
            "bin_end": 1234.9,
            "count": 0
           },
           {
            "bin_start": 1234.9,
            "bin_end": 1252.2,
            "count": 1
           },
           {
            "bin_start": 1252.2,
            "bin_end": 1269.5,
            "count": 0
           },
           {
            "bin_start": 1269.5,
            "bin_end": 1286.8,
            "count": 0
           },
           {
            "bin_start": 1286.8,
            "bin_end": 1304.1,
            "count": 1
           },
           {
            "bin_start": 1304.1,
            "bin_end": 1321.4,
            "count": 0
           },
           {
            "bin_start": 1321.4,
            "bin_end": 1338.7,
            "count": 0
           },
           {
            "bin_start": 1338.7,
            "bin_end": 1356,
            "count": 1
           }
          ]
         }
        },
        {
         "name": "Pack 3 // 9.99$",
         "dtype": "float64",
         "stats": {
          "unique_count": 5,
          "nan_count": 0,
          "min": "2208.0",
          "max": "2745.0",
          "histogram": [
           {
            "bin_start": 2208,
            "bin_end": 2261.7,
            "count": 1
           },
           {
            "bin_start": 2261.7,
            "bin_end": 2315.4,
            "count": 1
           },
           {
            "bin_start": 2315.4,
            "bin_end": 2369.1,
            "count": 1
           },
           {
            "bin_start": 2369.1,
            "bin_end": 2422.8,
            "count": 0
           },
           {
            "bin_start": 2422.8,
            "bin_end": 2476.5,
            "count": 0
           },
           {
            "bin_start": 2476.5,
            "bin_end": 2530.2,
            "count": 0
           },
           {
            "bin_start": 2530.2,
            "bin_end": 2583.9,
            "count": 1
           },
           {
            "bin_start": 2583.9,
            "bin_end": 2637.6,
            "count": 0
           },
           {
            "bin_start": 2637.6,
            "bin_end": 2691.3,
            "count": 0
           },
           {
            "bin_start": 2691.3,
            "bin_end": 2745,
            "count": 1
           }
          ]
         }
        },
        {
         "name": "Pack 4 // 19.99$",
         "dtype": "float64",
         "stats": {
          "unique_count": 5,
          "nan_count": 0,
          "min": "3978.0",
          "max": "4950.0",
          "histogram": [
           {
            "bin_start": 3978,
            "bin_end": 4075.2,
            "count": 1
           },
           {
            "bin_start": 4075.2,
            "bin_end": 4172.4,
            "count": 2
           },
           {
            "bin_start": 4172.4,
            "bin_end": 4269.6,
            "count": 0
           },
           {
            "bin_start": 4269.6,
            "bin_end": 4366.8,
            "count": 0
           },
           {
            "bin_start": 4366.8,
            "bin_end": 4464,
            "count": 0
           },
           {
            "bin_start": 4464,
            "bin_end": 4561.2,
            "count": 0
           },
           {
            "bin_start": 4561.2,
            "bin_end": 4658.4,
            "count": 1
           },
           {
            "bin_start": 4658.4,
            "bin_end": 4755.6,
            "count": 0
           },
           {
            "bin_start": 4755.6,
            "bin_end": 4852.8,
            "count": 0
           },
           {
            "bin_start": 4852.8,
            "bin_end": 4950,
            "count": 1
           }
          ]
         }
        },
        {
         "name": "Pack 5 // 49.99$",
         "dtype": "float64",
         "stats": {
          "unique_count": 5,
          "nan_count": 0,
          "min": "2704.0",
          "max": "3391.0",
          "histogram": [
           {
            "bin_start": 2704,
            "bin_end": 2772.7,
            "count": 1
           },
           {
            "bin_start": 2772.7,
            "bin_end": 2841.4,
            "count": 2
           },
           {
            "bin_start": 2841.4,
            "bin_end": 2910.1,
            "count": 0
           },
           {
            "bin_start": 2910.1,
            "bin_end": 2978.8,
            "count": 0
           },
           {
            "bin_start": 2978.8,
            "bin_end": 3047.5,
            "count": 0
           },
           {
            "bin_start": 3047.5,
            "bin_end": 3116.2,
            "count": 0
           },
           {
            "bin_start": 3116.2,
            "bin_end": 3184.9,
            "count": 0
           },
           {
            "bin_start": 3184.9,
            "bin_end": 3253.6,
            "count": 1
           },
           {
            "bin_start": 3253.6,
            "bin_end": 3322.3,
            "count": 0
           },
           {
            "bin_start": 3322.3,
            "bin_end": 3391,
            "count": 1
           }
          ]
         }
        },
        {
         "name": "Pack 6 // 99.99$",
         "dtype": "float64",
         "stats": {
          "unique_count": 5,
          "nan_count": 0,
          "min": "4861.0",
          "max": "5868.0",
          "histogram": [
           {
            "bin_start": 4861,
            "bin_end": 4961.7,
            "count": 2
           },
           {
            "bin_start": 4961.7,
            "bin_end": 5062.4,
            "count": 1
           },
           {
            "bin_start": 5062.4,
            "bin_end": 5163.1,
            "count": 0
           },
           {
            "bin_start": 5163.1,
            "bin_end": 5263.8,
            "count": 0
           },
           {
            "bin_start": 5263.8,
            "bin_end": 5364.5,
            "count": 0
           },
           {
            "bin_start": 5364.5,
            "bin_end": 5465.2,
            "count": 0
           },
           {
            "bin_start": 5465.2,
            "bin_end": 5565.9,
            "count": 1
           },
           {
            "bin_start": 5565.9,
            "bin_end": 5666.6,
            "count": 0
           },
           {
            "bin_start": 5666.6,
            "bin_end": 5767.3,
            "count": 0
           },
           {
            "bin_start": 5767.3,
            "bin_end": 5868,
            "count": 1
           }
          ]
         }
        },
        {
         "name": "Unnamed: 18",
         "dtype": "float64",
         "stats": {
          "unique_count": 0,
          "nan_count": 5,
          "min": null,
          "max": null,
          "histogram": [
           {
            "bin_start": 0,
            "bin_end": 0.1,
            "count": 0
           },
           {
            "bin_start": 0.1,
            "bin_end": 0.2,
            "count": 0
           },
           {
            "bin_start": 0.2,
            "bin_end": 0.30000000000000004,
            "count": 0
           },
           {
            "bin_start": 0.30000000000000004,
            "bin_end": 0.4,
            "count": 0
           },
           {
            "bin_start": 0.4,
            "bin_end": 0.5,
            "count": 0
           },
           {
            "bin_start": 0.5,
            "bin_end": 0.6000000000000001,
            "count": 0
           },
           {
            "bin_start": 0.6000000000000001,
            "bin_end": 0.7000000000000001,
            "count": 0
           },
           {
            "bin_start": 0.7000000000000001,
            "bin_end": 0.8,
            "count": 0
           },
           {
            "bin_start": 0.8,
            "bin_end": 0.9,
            "count": 0
           },
           {
            "bin_start": 0.9,
            "bin_end": 1,
            "count": 0
           }
          ]
         }
        },
        {
         "name": "Unnamed: 19",
         "dtype": "float64",
         "stats": {
          "unique_count": 0,
          "nan_count": 5,
          "min": null,
          "max": null,
          "histogram": [
           {
            "bin_start": 0,
            "bin_end": 0.1,
            "count": 0
           },
           {
            "bin_start": 0.1,
            "bin_end": 0.2,
            "count": 0
           },
           {
            "bin_start": 0.2,
            "bin_end": 0.30000000000000004,
            "count": 0
           },
           {
            "bin_start": 0.30000000000000004,
            "bin_end": 0.4,
            "count": 0
           },
           {
            "bin_start": 0.4,
            "bin_end": 0.5,
            "count": 0
           },
           {
            "bin_start": 0.5,
            "bin_end": 0.6000000000000001,
            "count": 0
           },
           {
            "bin_start": 0.6000000000000001,
            "bin_end": 0.7000000000000001,
            "count": 0
           },
           {
            "bin_start": 0.7000000000000001,
            "bin_end": 0.8,
            "count": 0
           },
           {
            "bin_start": 0.8,
            "bin_end": 0.9,
            "count": 0
           },
           {
            "bin_start": 0.9,
            "bin_end": 1,
            "count": 0
           }
          ]
         }
        },
        {
         "name": "Unnamed: 20",
         "dtype": "float64",
         "stats": {
          "unique_count": 0,
          "nan_count": 5,
          "min": null,
          "max": null,
          "histogram": [
           {
            "bin_start": 0,
            "bin_end": 0.1,
            "count": 0
           },
           {
            "bin_start": 0.1,
            "bin_end": 0.2,
            "count": 0
           },
           {
            "bin_start": 0.2,
            "bin_end": 0.30000000000000004,
            "count": 0
           },
           {
            "bin_start": 0.30000000000000004,
            "bin_end": 0.4,
            "count": 0
           },
           {
            "bin_start": 0.4,
            "bin_end": 0.5,
            "count": 0
           },
           {
            "bin_start": 0.5,
            "bin_end": 0.6000000000000001,
            "count": 0
           },
           {
            "bin_start": 0.6000000000000001,
            "bin_end": 0.7000000000000001,
            "count": 0
           },
           {
            "bin_start": 0.7000000000000001,
            "bin_end": 0.8,
            "count": 0
           },
           {
            "bin_start": 0.8,
            "bin_end": 0.9,
            "count": 0
           },
           {
            "bin_start": 0.9,
            "bin_end": 1,
            "count": 0
           }
          ]
         }
        },
        {
         "name": "Unnamed: 21",
         "dtype": "float64",
         "stats": {
          "unique_count": 0,
          "nan_count": 5,
          "min": null,
          "max": null,
          "histogram": [
           {
            "bin_start": 0,
            "bin_end": 0.1,
            "count": 0
           },
           {
            "bin_start": 0.1,
            "bin_end": 0.2,
            "count": 0
           },
           {
            "bin_start": 0.2,
            "bin_end": 0.30000000000000004,
            "count": 0
           },
           {
            "bin_start": 0.30000000000000004,
            "bin_end": 0.4,
            "count": 0
           },
           {
            "bin_start": 0.4,
            "bin_end": 0.5,
            "count": 0
           },
           {
            "bin_start": 0.5,
            "bin_end": 0.6000000000000001,
            "count": 0
           },
           {
            "bin_start": 0.6000000000000001,
            "bin_end": 0.7000000000000001,
            "count": 0
           },
           {
            "bin_start": 0.7000000000000001,
            "bin_end": 0.8,
            "count": 0
           },
           {
            "bin_start": 0.8,
            "bin_end": 0.9,
            "count": 0
           },
           {
            "bin_start": 0.9,
            "bin_end": 1,
            "count": 0
           }
          ]
         }
        },
        {
         "name": "Unnamed: 22",
         "dtype": "float64",
         "stats": {
          "unique_count": 0,
          "nan_count": 5,
          "min": null,
          "max": null,
          "histogram": [
           {
            "bin_start": 0,
            "bin_end": 0.1,
            "count": 0
           },
           {
            "bin_start": 0.1,
            "bin_end": 0.2,
            "count": 0
           },
           {
            "bin_start": 0.2,
            "bin_end": 0.30000000000000004,
            "count": 0
           },
           {
            "bin_start": 0.30000000000000004,
            "bin_end": 0.4,
            "count": 0
           },
           {
            "bin_start": 0.4,
            "bin_end": 0.5,
            "count": 0
           },
           {
            "bin_start": 0.5,
            "bin_end": 0.6000000000000001,
            "count": 0
           },
           {
            "bin_start": 0.6000000000000001,
            "bin_end": 0.7000000000000001,
            "count": 0
           },
           {
            "bin_start": 0.7000000000000001,
            "bin_end": 0.8,
            "count": 0
           },
           {
            "bin_start": 0.8,
            "bin_end": 0.9,
            "count": 0
           },
           {
            "bin_start": 0.9,
            "bin_end": 1,
            "count": 0
           }
          ]
         }
        },
        {
         "name": "Unnamed: 23",
         "dtype": "float64",
         "stats": {
          "unique_count": 0,
          "nan_count": 5,
          "min": null,
          "max": null,
          "histogram": [
           {
            "bin_start": 0,
            "bin_end": 0.1,
            "count": 0
           },
           {
            "bin_start": 0.1,
            "bin_end": 0.2,
            "count": 0
           },
           {
            "bin_start": 0.2,
            "bin_end": 0.30000000000000004,
            "count": 0
           },
           {
            "bin_start": 0.30000000000000004,
            "bin_end": 0.4,
            "count": 0
           },
           {
            "bin_start": 0.4,
            "bin_end": 0.5,
            "count": 0
           },
           {
            "bin_start": 0.5,
            "bin_end": 0.6000000000000001,
            "count": 0
           },
           {
            "bin_start": 0.6000000000000001,
            "bin_end": 0.7000000000000001,
            "count": 0
           },
           {
            "bin_start": 0.7000000000000001,
            "bin_end": 0.8,
            "count": 0
           },
           {
            "bin_start": 0.8,
            "bin_end": 0.9,
            "count": 0
           },
           {
            "bin_start": 0.9,
            "bin_end": 1,
            "count": 0
           }
          ]
         }
        },
        {
         "name": "Unnamed: 24",
         "dtype": "float64",
         "stats": {
          "unique_count": 0,
          "nan_count": 5,
          "min": null,
          "max": null,
          "histogram": [
           {
            "bin_start": 0,
            "bin_end": 0.1,
            "count": 0
           },
           {
            "bin_start": 0.1,
            "bin_end": 0.2,
            "count": 0
           },
           {
            "bin_start": 0.2,
            "bin_end": 0.30000000000000004,
            "count": 0
           },
           {
            "bin_start": 0.30000000000000004,
            "bin_end": 0.4,
            "count": 0
           },
           {
            "bin_start": 0.4,
            "bin_end": 0.5,
            "count": 0
           },
           {
            "bin_start": 0.5,
            "bin_end": 0.6000000000000001,
            "count": 0
           },
           {
            "bin_start": 0.6000000000000001,
            "bin_end": 0.7000000000000001,
            "count": 0
           },
           {
            "bin_start": 0.7000000000000001,
            "bin_end": 0.8,
            "count": 0
           },
           {
            "bin_start": 0.8,
            "bin_end": 0.9,
            "count": 0
           },
           {
            "bin_start": 0.9,
            "bin_end": 1,
            "count": 0
           }
          ]
         }
        },
        {
         "name": "Unnamed: 25",
         "dtype": "float64",
         "stats": {
          "unique_count": 0,
          "nan_count": 5,
          "min": null,
          "max": null,
          "histogram": [
           {
            "bin_start": 0,
            "bin_end": 0.1,
            "count": 0
           },
           {
            "bin_start": 0.1,
            "bin_end": 0.2,
            "count": 0
           },
           {
            "bin_start": 0.2,
            "bin_end": 0.30000000000000004,
            "count": 0
           },
           {
            "bin_start": 0.30000000000000004,
            "bin_end": 0.4,
            "count": 0
           },
           {
            "bin_start": 0.4,
            "bin_end": 0.5,
            "count": 0
           },
           {
            "bin_start": 0.5,
            "bin_end": 0.6000000000000001,
            "count": 0
           },
           {
            "bin_start": 0.6000000000000001,
            "bin_end": 0.7000000000000001,
            "count": 0
           },
           {
            "bin_start": 0.7000000000000001,
            "bin_end": 0.8,
            "count": 0
           },
           {
            "bin_start": 0.8,
            "bin_end": 0.9,
            "count": 0
           },
           {
            "bin_start": 0.9,
            "bin_end": 1,
            "count": 0
           }
          ]
         }
        },
        {
         "name": "_deepnote_index_column",
         "dtype": "int64"
        }
       ],
       "rows": [
        {
         "Date": "2017-03-01T00:00:00.000000",
         "Group": "control",
         "DAU": 343970,
         "Revenue": 19794,
         "PAU/DAU": 0.007492488286332694,
         "PAU (Paying Active Users)": 2577,
         "ARPU": 0.0575457161961799,
         "ARPPU": 7.681024447031432,
         "Transactions": 5238.402004070827,
         "Car bundle A // 2.99$": 0,
         "Car bundle B // 6.99$": 0,
         "Car bundle C // 9.99$": 0,
         "Pack 1 // 1.99$": 1484,
         "Pack 2 // 4.99$": 1356,
         "Pack 3 // 9.99$": 2745,
         "Pack 4 // 19.99$": 4950,
         "Pack 5 // 49.99$": 3391,
         "Pack 6 // 99.99$": 5868,
         "Unnamed: 18": "nan",
         "Unnamed: 19": "nan",
         "Unnamed: 20": "nan",
         "Unnamed: 21": "nan",
         "Unnamed: 22": "nan",
         "Unnamed: 23": "nan",
         "Unnamed: 24": "nan",
         "Unnamed: 25": "nan",
         "_deepnote_index_column": 0
        },
        {
         "Date": "2017-03-02T00:00:00.000000",
         "Group": "control",
         "DAU": 340743,
         "Revenue": 16067,
         "PAU/DAU": 0.00711842712920151,
         "PAU (Paying Active Users)": 2426,
         "ARPU": 0.04715283953008573,
         "ARPPU": 6.622835943940643,
         "Transactions": 4416.350040232279,
         "Car bundle A // 2.99$": 0,
         "Car bundle B // 6.99$": 0,
         "Car bundle C // 9.99$": 0,
         "Pack 1 // 1.99$": 1051,
         "Pack 2 // 4.99$": 1183,
         "Pack 3 // 9.99$": 2290,
         "Pack 4 // 19.99$": 3978,
         "Pack 5 // 49.99$": 2704,
         "Pack 6 // 99.99$": 4861,
         "Unnamed: 18": "nan",
         "Unnamed: 19": "nan",
         "Unnamed: 20": "nan",
         "Unnamed: 21": "nan",
         "Unnamed: 22": "nan",
         "Unnamed: 23": "nan",
         "Unnamed: 24": "nan",
         "Unnamed: 25": "nan",
         "_deepnote_index_column": 1
        },
        {
         "Date": "2017-03-03T00:00:00.000000",
         "Group": "control",
         "DAU": 399292,
         "Revenue": 16212,
         "PAU/DAU": 0.007807473309560984,
         "PAU (Paying Active Users)": 3117,
         "ARPU": 0.0406018653015838,
         "ARPPU": 5.201154956689124,
         "Transactions": 5564.455359801203,
         "Car bundle A // 2.99$": 0,
         "Car bundle B // 6.99$": 0,
         "Car bundle C // 9.99$": 0,
         "Pack 1 // 1.99$": 977,
         "Pack 2 // 4.99$": 1205,
         "Pack 3 // 9.99$": 2208,
         "Pack 4 // 19.99$": 4078,
         "Pack 5 // 49.99$": 2827,
         "Pack 6 // 99.99$": 4917,
         "Unnamed: 18": "nan",
         "Unnamed: 19": "nan",
         "Unnamed: 20": "nan",
         "Unnamed: 21": "nan",
         "Unnamed: 22": "nan",
         "Unnamed: 23": "nan",
         "Unnamed: 24": "nan",
         "Unnamed: 25": "nan",
         "_deepnote_index_column": 2
        },
        {
         "Date": "2017-03-04T00:00:00.000000",
         "Group": "control",
         "DAU": 413060,
         "Revenue": 16824,
         "PAU/DAU": 0.007344612800722849,
         "PAU (Paying Active Users)": 3034,
         "ARPU": 0.04073016026727352,
         "ARPPU": 5.545154911008569,
         "Transactions": 5485.192860238073,
         "Car bundle A // 2.99$": 0,
         "Car bundle B // 6.99$": 0,
         "Car bundle C // 9.99$": 0,
         "Pack 1 // 1.99$": 1303,
         "Pack 2 // 4.99$": 1235,
         "Pack 3 // 9.99$": 2354,
         "Pack 4 // 19.99$": 4145,
         "Pack 5 // 49.99$": 2792,
         "Pack 6 // 99.99$": 4995,
         "Unnamed: 18": "nan",
         "Unnamed: 19": "nan",
         "Unnamed: 20": "nan",
         "Unnamed: 21": "nan",
         "Unnamed: 22": "nan",
         "Unnamed: 23": "nan",
         "Unnamed: 24": "nan",
         "Unnamed: 25": "nan",
         "_deepnote_index_column": 3
        },
        {
         "Date": "2017-03-05T00:00:00.000000",
         "Group": "control",
         "DAU": 388422,
         "Revenue": 18257,
         "PAU/DAU": 0.006887352385753139,
         "PAU (Paying Active Users)": 2675,
         "ARPU": 0.04700300188969729,
         "ARPPU": 6.825046728971962,
         "Transactions": 4846.145623503525,
         "Car bundle A // 2.99$": 0,
         "Car bundle B // 6.99$": 0,
         "Car bundle C // 9.99$": 0,
         "Pack 1 // 1.99$": 1065,
         "Pack 2 // 4.99$": 1298,
         "Pack 3 // 9.99$": 2535,
         "Pack 4 // 19.99$": 4619,
         "Pack 5 // 49.99$": 3188,
         "Pack 6 // 99.99$": 5552,
         "Unnamed: 18": "nan",
         "Unnamed: 19": "nan",
         "Unnamed: 20": "nan",
         "Unnamed: 21": "nan",
         "Unnamed: 22": "nan",
         "Unnamed: 23": "nan",
         "Unnamed: 24": "nan",
         "Unnamed: 25": "nan",
         "_deepnote_index_column": 4
        }
       ]
      },
      "text/plain": "        Date    Group     DAU  Revenue   PAU/DAU  PAU (Paying Active Users)  \\\n0 2017-03-01  control  343970    19794  0.007492                       2577   \n1 2017-03-02  control  340743    16067  0.007118                       2426   \n2 2017-03-03  control  399292    16212  0.007807                       3117   \n3 2017-03-04  control  413060    16824  0.007345                       3034   \n4 2017-03-05  control  388422    18257  0.006887                       2675   \n\n       ARPU     ARPPU  Transactions  Car bundle A // 2.99$  ...  \\\n0  0.057546  7.681024   5238.402004                      0  ...   \n1  0.047153  6.622836   4416.350040                      0  ...   \n2  0.040602  5.201155   5564.455360                      0  ...   \n3  0.040730  5.545155   5485.192860                      0  ...   \n4  0.047003  6.825047   4846.145624                      0  ...   \n\n   Pack 5 // 49.99$  Pack 6 // 99.99$  Unnamed: 18  Unnamed: 19  Unnamed: 20  \\\n0            3391.0            5868.0          NaN          NaN          NaN   \n1            2704.0            4861.0          NaN          NaN          NaN   \n2            2827.0            4917.0          NaN          NaN          NaN   \n3            2792.0            4995.0          NaN          NaN          NaN   \n4            3188.0            5552.0          NaN          NaN          NaN   \n\n   Unnamed: 21  Unnamed: 22  Unnamed: 23  Unnamed: 24  Unnamed: 25  \n0          NaN          NaN          NaN          NaN          NaN  \n1          NaN          NaN          NaN          NaN          NaN  \n2          NaN          NaN          NaN          NaN          NaN  \n3          NaN          NaN          NaN          NaN          NaN  \n4          NaN          NaN          NaN          NaN          NaN  \n\n[5 rows x 26 columns]",
      "text/html": "<div>\n<style scoped>\n    .dataframe tbody tr th:only-of-type {\n        vertical-align: middle;\n    }\n\n    .dataframe tbody tr th {\n        vertical-align: top;\n    }\n\n    .dataframe thead th {\n        text-align: right;\n    }\n</style>\n<table border=\"1\" class=\"dataframe\">\n  <thead>\n    <tr style=\"text-align: right;\">\n      <th></th>\n      <th>Date</th>\n      <th>Group</th>\n      <th>DAU</th>\n      <th>Revenue</th>\n      <th>PAU/DAU</th>\n      <th>PAU (Paying Active Users)</th>\n      <th>ARPU</th>\n      <th>ARPPU</th>\n      <th>Transactions</th>\n      <th>Car bundle A // 2.99$</th>\n      <th>...</th>\n      <th>Pack 5 // 49.99$</th>\n      <th>Pack 6 // 99.99$</th>\n      <th>Unnamed: 18</th>\n      <th>Unnamed: 19</th>\n      <th>Unnamed: 20</th>\n      <th>Unnamed: 21</th>\n      <th>Unnamed: 22</th>\n      <th>Unnamed: 23</th>\n      <th>Unnamed: 24</th>\n      <th>Unnamed: 25</th>\n    </tr>\n  </thead>\n  <tbody>\n    <tr>\n      <th>0</th>\n      <td>2017-03-01</td>\n      <td>control</td>\n      <td>343970</td>\n      <td>19794</td>\n      <td>0.007492</td>\n      <td>2577</td>\n      <td>0.057546</td>\n      <td>7.681024</td>\n      <td>5238.402004</td>\n      <td>0</td>\n      <td>...</td>\n      <td>3391.0</td>\n      <td>5868.0</td>\n      <td>NaN</td>\n      <td>NaN</td>\n      <td>NaN</td>\n      <td>NaN</td>\n      <td>NaN</td>\n      <td>NaN</td>\n      <td>NaN</td>\n      <td>NaN</td>\n    </tr>\n    <tr>\n      <th>1</th>\n      <td>2017-03-02</td>\n      <td>control</td>\n      <td>340743</td>\n      <td>16067</td>\n      <td>0.007118</td>\n      <td>2426</td>\n      <td>0.047153</td>\n      <td>6.622836</td>\n      <td>4416.350040</td>\n      <td>0</td>\n      <td>...</td>\n      <td>2704.0</td>\n      <td>4861.0</td>\n      <td>NaN</td>\n      <td>NaN</td>\n      <td>NaN</td>\n      <td>NaN</td>\n      <td>NaN</td>\n      <td>NaN</td>\n      <td>NaN</td>\n      <td>NaN</td>\n    </tr>\n    <tr>\n      <th>2</th>\n      <td>2017-03-03</td>\n      <td>control</td>\n      <td>399292</td>\n      <td>16212</td>\n      <td>0.007807</td>\n      <td>3117</td>\n      <td>0.040602</td>\n      <td>5.201155</td>\n      <td>5564.455360</td>\n      <td>0</td>\n      <td>...</td>\n      <td>2827.0</td>\n      <td>4917.0</td>\n      <td>NaN</td>\n      <td>NaN</td>\n      <td>NaN</td>\n      <td>NaN</td>\n      <td>NaN</td>\n      <td>NaN</td>\n      <td>NaN</td>\n      <td>NaN</td>\n    </tr>\n    <tr>\n      <th>3</th>\n      <td>2017-03-04</td>\n      <td>control</td>\n      <td>413060</td>\n      <td>16824</td>\n      <td>0.007345</td>\n      <td>3034</td>\n      <td>0.040730</td>\n      <td>5.545155</td>\n      <td>5485.192860</td>\n      <td>0</td>\n      <td>...</td>\n      <td>2792.0</td>\n      <td>4995.0</td>\n      <td>NaN</td>\n      <td>NaN</td>\n      <td>NaN</td>\n      <td>NaN</td>\n      <td>NaN</td>\n      <td>NaN</td>\n      <td>NaN</td>\n      <td>NaN</td>\n    </tr>\n    <tr>\n      <th>4</th>\n      <td>2017-03-05</td>\n      <td>control</td>\n      <td>388422</td>\n      <td>18257</td>\n      <td>0.006887</td>\n      <td>2675</td>\n      <td>0.047003</td>\n      <td>6.825047</td>\n      <td>4846.145624</td>\n      <td>0</td>\n      <td>...</td>\n      <td>3188.0</td>\n      <td>5552.0</td>\n      <td>NaN</td>\n      <td>NaN</td>\n      <td>NaN</td>\n      <td>NaN</td>\n      <td>NaN</td>\n      <td>NaN</td>\n      <td>NaN</td>\n      <td>NaN</td>\n    </tr>\n  </tbody>\n</table>\n<p>5 rows × 26 columns</p>\n</div>"
     },
     "metadata": {}
    }
   ]
  },
  {
   "cell_type": "code",
   "metadata": {
    "cell_id": "71e2df70-6f6d-4b16-b578-5f1b5d43e1e8",
    "tags": [],
    "deepnote_to_be_reexecuted": false,
    "source_hash": "de1e323c",
    "execution_start": 1648313124121,
    "execution_millis": 281,
    "deepnote_cell_type": "code",
    "deepnote_cell_height": 701
   },
   "source": "df.info()",
   "execution_count": 13,
   "outputs": [
    {
     "name": "stdout",
     "text": "<class 'pandas.core.frame.DataFrame'>\nRangeIndex: 176 entries, 0 to 175\nData columns (total 26 columns):\n #   Column                     Non-Null Count  Dtype         \n---  ------                     --------------  -----         \n 0   Date                       176 non-null    datetime64[ns]\n 1   Group                      176 non-null    object        \n 2   DAU                        176 non-null    int64         \n 3   Revenue                    176 non-null    int64         \n 4   PAU/DAU                    176 non-null    float64       \n 5   PAU (Paying Active Users)  176 non-null    int64         \n 6   ARPU                       176 non-null    float64       \n 7   ARPPU                      176 non-null    float64       \n 8   Transactions               176 non-null    float64       \n 9   Car bundle A // 2.99$      176 non-null    int64         \n 10  Car bundle B // 6.99$      176 non-null    int64         \n 11  Car bundle C // 9.99$      176 non-null    int64         \n 12  Pack 1 // 1.99$            176 non-null    float64       \n 13  Pack 2 // 4.99$            176 non-null    float64       \n 14  Pack 3 // 9.99$            176 non-null    float64       \n 15  Pack 4 // 19.99$           176 non-null    float64       \n 16  Pack 5 // 49.99$           176 non-null    float64       \n 17  Pack 6 // 99.99$           176 non-null    float64       \n 18  Unnamed: 18                0 non-null      float64       \n 19  Unnamed: 19                0 non-null      float64       \n 20  Unnamed: 20                0 non-null      float64       \n 21  Unnamed: 21                0 non-null      float64       \n 22  Unnamed: 22                0 non-null      float64       \n 23  Unnamed: 23                0 non-null      float64       \n 24  Unnamed: 24                0 non-null      float64       \n 25  Unnamed: 25                0 non-null      float64       \ndtypes: datetime64[ns](1), float64(18), int64(6), object(1)\nmemory usage: 35.9+ KB\n",
     "output_type": "stream"
    }
   ]
  },
  {
   "cell_type": "code",
   "source": "# Dropping unnecesary columns\ndf = df.iloc[:,:18]",
   "metadata": {
    "cell_id": "08d8f07f885a423aa1c935e29adedcd2",
    "tags": [],
    "deepnote_to_be_reexecuted": false,
    "source_hash": "ca00ac2e",
    "execution_start": 1648313127504,
    "execution_millis": 1,
    "deepnote_cell_type": "code",
    "deepnote_cell_height": 99
   },
   "outputs": [],
   "execution_count": 14
  },
  {
   "cell_type": "code",
   "metadata": {
    "cell_id": "4803e3c73a6549e29d28f5d03a6bf0e4",
    "tags": [],
    "deepnote_to_be_reexecuted": false,
    "source_hash": "9a41f15d",
    "execution_start": 1648313128937,
    "execution_millis": 12,
    "deepnote_cell_type": "code",
    "deepnote_cell_height": 99
   },
   "source": "# Renaming PAU column\ndf.rename(columns={'PAU (Paying Active Users)': 'PAU'}, inplace = True)",
   "execution_count": 15,
   "outputs": []
  },
  {
   "cell_type": "code",
   "metadata": {
    "cell_id": "c025d286-e9af-40e4-a06a-0de3ab9dd3bc",
    "tags": [],
    "deepnote_to_be_reexecuted": false,
    "source_hash": "e0d1ec5f",
    "execution_start": 1648313129727,
    "execution_millis": 18,
    "deepnote_cell_type": "code",
    "deepnote_cell_height": 207
   },
   "source": "# Setting a new column with all the promotions sold\ndf['Card bundle promotion'] = df['Car bundle A // 2.99$'] + df['Car bundle B // 6.99$'] + df['Car bundle C // 9.99$']\n\n# Setting a new column with number of promotion packs sold\ndf['Promotions_sold'] = df['Car bundle A // 2.99$']/2.99 + df['Car bundle B // 6.99$']/6.99 + df['Car bundle C // 9.99$']/9.99\n\n# Setting a new column with sales not in promotion\ndf['Sales not in promotion'] = df['Revenue'] - df['Card bundle promotion']",
   "execution_count": 16,
   "outputs": []
  },
  {
   "cell_type": "code",
   "metadata": {
    "cell_id": "ecfe41a6-2fc8-4900-984f-4fcaed595d6d",
    "tags": [],
    "deepnote_to_be_reexecuted": false,
    "source_hash": "b9695ce2",
    "execution_start": 1648313130362,
    "execution_millis": 59203,
    "output_cleared": false,
    "deepnote_cell_type": "code",
    "deepnote_cell_height": 117
   },
   "source": "# Setting the date as index and formatting it\ndf.set_index('Date', inplace=True)\ndf.index = df.index.strftime('%m/%d/%Y')",
   "execution_count": 17,
   "outputs": []
  },
  {
   "cell_type": "code",
   "metadata": {
    "cell_id": "5e7ff7d4-4501-4f6f-9bbd-cb39301345b3",
    "tags": [],
    "deepnote_to_be_reexecuted": false,
    "source_hash": "fc1795e4",
    "execution_start": 1648313139162,
    "execution_millis": 12,
    "deepnote_cell_type": "code",
    "deepnote_cell_height": 99
   },
   "source": "# Defining column that indicates if the measures are before or during the experiment \ndf['Timing'] = [\"Previous\" if x < '03/15/2017' else \"Post\" for x in df.index]",
   "execution_count": 19,
   "outputs": []
  },
  {
   "cell_type": "code",
   "source": "# Checking it's alright\ndf.head()",
   "metadata": {
    "cell_id": "1bba2d8a14524ba5a592a2c57387042f",
    "tags": [],
    "deepnote_to_be_reexecuted": false,
    "source_hash": "45b7eefd",
    "execution_start": 1648313172658,
    "execution_millis": 270,
    "deepnote_cell_type": "code",
    "deepnote_cell_height": 428
   },
   "outputs": [
    {
     "output_type": "execute_result",
     "execution_count": 21,
     "data": {
      "application/vnd.deepnote.dataframe.v3+json": {
       "column_count": 21,
       "row_count": 5,
       "columns": [
        {
         "name": "Group",
         "dtype": "object",
         "stats": {
          "unique_count": 1,
          "nan_count": 0,
          "categories": [
           {
            "name": "control",
            "count": 5
           }
          ]
         }
        },
        {
         "name": "DAU",
         "dtype": "int64",
         "stats": {
          "unique_count": 5,
          "nan_count": 0,
          "min": "340743",
          "max": "413060",
          "histogram": [
           {
            "bin_start": 340743,
            "bin_end": 347974.7,
            "count": 2
           },
           {
            "bin_start": 347974.7,
            "bin_end": 355206.4,
            "count": 0
           },
           {
            "bin_start": 355206.4,
            "bin_end": 362438.1,
            "count": 0
           },
           {
            "bin_start": 362438.1,
            "bin_end": 369669.8,
            "count": 0
           },
           {
            "bin_start": 369669.8,
            "bin_end": 376901.5,
            "count": 0
           },
           {
            "bin_start": 376901.5,
            "bin_end": 384133.2,
            "count": 0
           },
           {
            "bin_start": 384133.2,
            "bin_end": 391364.9,
            "count": 1
           },
           {
            "bin_start": 391364.9,
            "bin_end": 398596.6,
            "count": 0
           },
           {
            "bin_start": 398596.6,
            "bin_end": 405828.3,
            "count": 1
           },
           {
            "bin_start": 405828.3,
            "bin_end": 413060,
            "count": 1
           }
          ]
         }
        },
        {
         "name": "Revenue",
         "dtype": "int64",
         "stats": {
          "unique_count": 5,
          "nan_count": 0,
          "min": "16067",
          "max": "19794",
          "histogram": [
           {
            "bin_start": 16067,
            "bin_end": 16439.7,
            "count": 2
           },
           {
            "bin_start": 16439.7,
            "bin_end": 16812.4,
            "count": 0
           },
           {
            "bin_start": 16812.4,
            "bin_end": 17185.1,
            "count": 1
           },
           {
            "bin_start": 17185.1,
            "bin_end": 17557.8,
            "count": 0
           },
           {
            "bin_start": 17557.8,
            "bin_end": 17930.5,
            "count": 0
           },
           {
            "bin_start": 17930.5,
            "bin_end": 18303.2,
            "count": 1
           },
           {
            "bin_start": 18303.2,
            "bin_end": 18675.9,
            "count": 0
           },
           {
            "bin_start": 18675.9,
            "bin_end": 19048.6,
            "count": 0
           },
           {
            "bin_start": 19048.6,
            "bin_end": 19421.3,
            "count": 0
           },
           {
            "bin_start": 19421.3,
            "bin_end": 19794,
            "count": 1
           }
          ]
         }
        },
        {
         "name": "PAU/DAU",
         "dtype": "float64",
         "stats": {
          "unique_count": 5,
          "nan_count": 0,
          "min": "0.006887352385753139",
          "max": "0.007807473309560984",
          "histogram": [
           {
            "bin_start": 0.006887352385753139,
            "bin_end": 0.006979364478133923,
            "count": 1
           },
           {
            "bin_start": 0.006979364478133923,
            "bin_end": 0.007071376570514708,
            "count": 0
           },
           {
            "bin_start": 0.007071376570514708,
            "bin_end": 0.0071633886628954925,
            "count": 1
           },
           {
            "bin_start": 0.0071633886628954925,
            "bin_end": 0.007255400755276277,
            "count": 0
           },
           {
            "bin_start": 0.007255400755276277,
            "bin_end": 0.007347412847657062,
            "count": 1
           },
           {
            "bin_start": 0.007347412847657062,
            "bin_end": 0.007439424940037846,
            "count": 0
           },
           {
            "bin_start": 0.007439424940037846,
            "bin_end": 0.0075314370324186305,
            "count": 1
           },
           {
            "bin_start": 0.0075314370324186305,
            "bin_end": 0.007623449124799415,
            "count": 0
           },
           {
            "bin_start": 0.007623449124799415,
            "bin_end": 0.0077154612171802,
            "count": 0
           },
           {
            "bin_start": 0.0077154612171802,
            "bin_end": 0.007807473309560984,
            "count": 1
           }
          ]
         }
        },
        {
         "name": "PAU",
         "dtype": "int64",
         "stats": {
          "unique_count": 5,
          "nan_count": 0,
          "min": "2426",
          "max": "3117",
          "histogram": [
           {
            "bin_start": 2426,
            "bin_end": 2495.1,
            "count": 1
           },
           {
            "bin_start": 2495.1,
            "bin_end": 2564.2,
            "count": 0
           },
           {
            "bin_start": 2564.2,
            "bin_end": 2633.3,
            "count": 1
           },
           {
            "bin_start": 2633.3,
            "bin_end": 2702.4,
            "count": 1
           },
           {
            "bin_start": 2702.4,
            "bin_end": 2771.5,
            "count": 0
           },
           {
            "bin_start": 2771.5,
            "bin_end": 2840.6,
            "count": 0
           },
           {
            "bin_start": 2840.6,
            "bin_end": 2909.7,
            "count": 0
           },
           {
            "bin_start": 2909.7,
            "bin_end": 2978.8,
            "count": 0
           },
           {
            "bin_start": 2978.8,
            "bin_end": 3047.9,
            "count": 1
           },
           {
            "bin_start": 3047.9,
            "bin_end": 3117,
            "count": 1
           }
          ]
         }
        },
        {
         "name": "ARPU",
         "dtype": "float64",
         "stats": {
          "unique_count": 5,
          "nan_count": 0,
          "min": "0.0406018653015838",
          "max": "0.0575457161961799",
          "histogram": [
           {
            "bin_start": 0.0406018653015838,
            "bin_end": 0.04229625039104341,
            "count": 2
           },
           {
            "bin_start": 0.04229625039104341,
            "bin_end": 0.04399063548050302,
            "count": 0
           },
           {
            "bin_start": 0.04399063548050302,
            "bin_end": 0.04568502056996263,
            "count": 0
           },
           {
            "bin_start": 0.04568502056996263,
            "bin_end": 0.04737940565942224,
            "count": 2
           },
           {
            "bin_start": 0.04737940565942224,
            "bin_end": 0.04907379074888185,
            "count": 0
           },
           {
            "bin_start": 0.04907379074888185,
            "bin_end": 0.050768175838341464,
            "count": 0
           },
           {
            "bin_start": 0.050768175838341464,
            "bin_end": 0.05246256092780107,
            "count": 0
           },
           {
            "bin_start": 0.05246256092780107,
            "bin_end": 0.05415694601726068,
            "count": 0
           },
           {
            "bin_start": 0.05415694601726068,
            "bin_end": 0.05585133110672029,
            "count": 0
           },
           {
            "bin_start": 0.05585133110672029,
            "bin_end": 0.0575457161961799,
            "count": 1
           }
          ]
         }
        },
        {
         "name": "ARPPU",
         "dtype": "float64",
         "stats": {
          "unique_count": 5,
          "nan_count": 0,
          "min": "5.201154956689124",
          "max": "7.681024447031432",
          "histogram": [
           {
            "bin_start": 5.201154956689124,
            "bin_end": 5.449141905723355,
            "count": 1
           },
           {
            "bin_start": 5.449141905723355,
            "bin_end": 5.697128854757586,
            "count": 1
           },
           {
            "bin_start": 5.697128854757586,
            "bin_end": 5.945115803791817,
            "count": 0
           },
           {
            "bin_start": 5.945115803791817,
            "bin_end": 6.193102752826047,
            "count": 0
           },
           {
            "bin_start": 6.193102752826047,
            "bin_end": 6.441089701860278,
            "count": 0
           },
           {
            "bin_start": 6.441089701860278,
            "bin_end": 6.689076650894509,
            "count": 1
           },
           {
            "bin_start": 6.689076650894509,
            "bin_end": 6.93706359992874,
            "count": 1
           },
           {
            "bin_start": 6.93706359992874,
            "bin_end": 7.185050548962971,
            "count": 0
           },
           {
            "bin_start": 7.185050548962971,
            "bin_end": 7.433037497997201,
            "count": 0
           },
           {
            "bin_start": 7.433037497997201,
            "bin_end": 7.681024447031432,
            "count": 1
           }
          ]
         }
        },
        {
         "name": "Transactions",
         "dtype": "float64",
         "stats": {
          "unique_count": 5,
          "nan_count": 0,
          "min": "4416.350040232279",
          "max": "5564.455359801203",
          "histogram": [
           {
            "bin_start": 4416.350040232279,
            "bin_end": 4531.160572189171,
            "count": 1
           },
           {
            "bin_start": 4531.160572189171,
            "bin_end": 4645.971104146063,
            "count": 0
           },
           {
            "bin_start": 4645.971104146063,
            "bin_end": 4760.781636102956,
            "count": 0
           },
           {
            "bin_start": 4760.781636102956,
            "bin_end": 4875.5921680598485,
            "count": 1
           },
           {
            "bin_start": 4875.5921680598485,
            "bin_end": 4990.402700016741,
            "count": 0
           },
           {
            "bin_start": 4990.402700016741,
            "bin_end": 5105.213231973633,
            "count": 0
           },
           {
            "bin_start": 5105.213231973633,
            "bin_end": 5220.023763930525,
            "count": 0
           },
           {
            "bin_start": 5220.023763930525,
            "bin_end": 5334.834295887418,
            "count": 1
           },
           {
            "bin_start": 5334.834295887418,
            "bin_end": 5449.64482784431,
            "count": 0
           },
           {
            "bin_start": 5449.64482784431,
            "bin_end": 5564.455359801203,
            "count": 2
           }
          ]
         }
        },
        {
         "name": "Car bundle A // 2.99$",
         "dtype": "int64",
         "stats": {
          "unique_count": 1,
          "nan_count": 0,
          "min": "0",
          "max": "0",
          "histogram": [
           {
            "bin_start": -0.5,
            "bin_end": -0.4,
            "count": 0
           },
           {
            "bin_start": -0.4,
            "bin_end": -0.3,
            "count": 0
           },
           {
            "bin_start": -0.3,
            "bin_end": -0.19999999999999996,
            "count": 0
           },
           {
            "bin_start": -0.19999999999999996,
            "bin_end": -0.09999999999999998,
            "count": 0
           },
           {
            "bin_start": -0.09999999999999998,
            "bin_end": 0,
            "count": 0
           },
           {
            "bin_start": 0,
            "bin_end": 0.10000000000000009,
            "count": 5
           },
           {
            "bin_start": 0.10000000000000009,
            "bin_end": 0.20000000000000007,
            "count": 0
           },
           {
            "bin_start": 0.20000000000000007,
            "bin_end": 0.30000000000000004,
            "count": 0
           },
           {
            "bin_start": 0.30000000000000004,
            "bin_end": 0.4,
            "count": 0
           },
           {
            "bin_start": 0.4,
            "bin_end": 0.5,
            "count": 0
           }
          ]
         }
        },
        {
         "name": "Car bundle B // 6.99$",
         "dtype": "int64",
         "stats": {
          "unique_count": 1,
          "nan_count": 0,
          "min": "0",
          "max": "0",
          "histogram": [
           {
            "bin_start": -0.5,
            "bin_end": -0.4,
            "count": 0
           },
           {
            "bin_start": -0.4,
            "bin_end": -0.3,
            "count": 0
           },
           {
            "bin_start": -0.3,
            "bin_end": -0.19999999999999996,
            "count": 0
           },
           {
            "bin_start": -0.19999999999999996,
            "bin_end": -0.09999999999999998,
            "count": 0
           },
           {
            "bin_start": -0.09999999999999998,
            "bin_end": 0,
            "count": 0
           },
           {
            "bin_start": 0,
            "bin_end": 0.10000000000000009,
            "count": 5
           },
           {
            "bin_start": 0.10000000000000009,
            "bin_end": 0.20000000000000007,
            "count": 0
           },
           {
            "bin_start": 0.20000000000000007,
            "bin_end": 0.30000000000000004,
            "count": 0
           },
           {
            "bin_start": 0.30000000000000004,
            "bin_end": 0.4,
            "count": 0
           },
           {
            "bin_start": 0.4,
            "bin_end": 0.5,
            "count": 0
           }
          ]
         }
        },
        {
         "name": "Car bundle C // 9.99$",
         "dtype": "int64",
         "stats": {
          "unique_count": 1,
          "nan_count": 0,
          "min": "0",
          "max": "0",
          "histogram": [
           {
            "bin_start": -0.5,
            "bin_end": -0.4,
            "count": 0
           },
           {
            "bin_start": -0.4,
            "bin_end": -0.3,
            "count": 0
           },
           {
            "bin_start": -0.3,
            "bin_end": -0.19999999999999996,
            "count": 0
           },
           {
            "bin_start": -0.19999999999999996,
            "bin_end": -0.09999999999999998,
            "count": 0
           },
           {
            "bin_start": -0.09999999999999998,
            "bin_end": 0,
            "count": 0
           },
           {
            "bin_start": 0,
            "bin_end": 0.10000000000000009,
            "count": 5
           },
           {
            "bin_start": 0.10000000000000009,
            "bin_end": 0.20000000000000007,
            "count": 0
           },
           {
            "bin_start": 0.20000000000000007,
            "bin_end": 0.30000000000000004,
            "count": 0
           },
           {
            "bin_start": 0.30000000000000004,
            "bin_end": 0.4,
            "count": 0
           },
           {
            "bin_start": 0.4,
            "bin_end": 0.5,
            "count": 0
           }
          ]
         }
        },
        {
         "name": "Pack 1 // 1.99$",
         "dtype": "float64",
         "stats": {
          "unique_count": 5,
          "nan_count": 0,
          "min": "977.0",
          "max": "1484.0",
          "histogram": [
           {
            "bin_start": 977,
            "bin_end": 1027.7,
            "count": 1
           },
           {
            "bin_start": 1027.7,
            "bin_end": 1078.4,
            "count": 2
           },
           {
            "bin_start": 1078.4,
            "bin_end": 1129.1,
            "count": 0
           },
           {
            "bin_start": 1129.1,
            "bin_end": 1179.8,
            "count": 0
           },
           {
            "bin_start": 1179.8,
            "bin_end": 1230.5,
            "count": 0
           },
           {
            "bin_start": 1230.5,
            "bin_end": 1281.2,
            "count": 0
           },
           {
            "bin_start": 1281.2,
            "bin_end": 1331.9,
            "count": 1
           },
           {
            "bin_start": 1331.9,
            "bin_end": 1382.6,
            "count": 0
           },
           {
            "bin_start": 1382.6,
            "bin_end": 1433.3,
            "count": 0
           },
           {
            "bin_start": 1433.3,
            "bin_end": 1484,
            "count": 1
           }
          ]
         }
        },
        {
         "name": "Pack 2 // 4.99$",
         "dtype": "float64",
         "stats": {
          "unique_count": 5,
          "nan_count": 0,
          "min": "1183.0",
          "max": "1356.0",
          "histogram": [
           {
            "bin_start": 1183,
            "bin_end": 1200.3,
            "count": 1
           },
           {
            "bin_start": 1200.3,
            "bin_end": 1217.6,
            "count": 1
           },
           {
            "bin_start": 1217.6,
            "bin_end": 1234.9,
            "count": 0
           },
           {
            "bin_start": 1234.9,
            "bin_end": 1252.2,
            "count": 1
           },
           {
            "bin_start": 1252.2,
            "bin_end": 1269.5,
            "count": 0
           },
           {
            "bin_start": 1269.5,
            "bin_end": 1286.8,
            "count": 0
           },
           {
            "bin_start": 1286.8,
            "bin_end": 1304.1,
            "count": 1
           },
           {
            "bin_start": 1304.1,
            "bin_end": 1321.4,
            "count": 0
           },
           {
            "bin_start": 1321.4,
            "bin_end": 1338.7,
            "count": 0
           },
           {
            "bin_start": 1338.7,
            "bin_end": 1356,
            "count": 1
           }
          ]
         }
        },
        {
         "name": "Pack 3 // 9.99$",
         "dtype": "float64",
         "stats": {
          "unique_count": 5,
          "nan_count": 0,
          "min": "2208.0",
          "max": "2745.0",
          "histogram": [
           {
            "bin_start": 2208,
            "bin_end": 2261.7,
            "count": 1
           },
           {
            "bin_start": 2261.7,
            "bin_end": 2315.4,
            "count": 1
           },
           {
            "bin_start": 2315.4,
            "bin_end": 2369.1,
            "count": 1
           },
           {
            "bin_start": 2369.1,
            "bin_end": 2422.8,
            "count": 0
           },
           {
            "bin_start": 2422.8,
            "bin_end": 2476.5,
            "count": 0
           },
           {
            "bin_start": 2476.5,
            "bin_end": 2530.2,
            "count": 0
           },
           {
            "bin_start": 2530.2,
            "bin_end": 2583.9,
            "count": 1
           },
           {
            "bin_start": 2583.9,
            "bin_end": 2637.6,
            "count": 0
           },
           {
            "bin_start": 2637.6,
            "bin_end": 2691.3,
            "count": 0
           },
           {
            "bin_start": 2691.3,
            "bin_end": 2745,
            "count": 1
           }
          ]
         }
        },
        {
         "name": "Pack 4 // 19.99$",
         "dtype": "float64",
         "stats": {
          "unique_count": 5,
          "nan_count": 0,
          "min": "3978.0",
          "max": "4950.0",
          "histogram": [
           {
            "bin_start": 3978,
            "bin_end": 4075.2,
            "count": 1
           },
           {
            "bin_start": 4075.2,
            "bin_end": 4172.4,
            "count": 2
           },
           {
            "bin_start": 4172.4,
            "bin_end": 4269.6,
            "count": 0
           },
           {
            "bin_start": 4269.6,
            "bin_end": 4366.8,
            "count": 0
           },
           {
            "bin_start": 4366.8,
            "bin_end": 4464,
            "count": 0
           },
           {
            "bin_start": 4464,
            "bin_end": 4561.2,
            "count": 0
           },
           {
            "bin_start": 4561.2,
            "bin_end": 4658.4,
            "count": 1
           },
           {
            "bin_start": 4658.4,
            "bin_end": 4755.6,
            "count": 0
           },
           {
            "bin_start": 4755.6,
            "bin_end": 4852.8,
            "count": 0
           },
           {
            "bin_start": 4852.8,
            "bin_end": 4950,
            "count": 1
           }
          ]
         }
        },
        {
         "name": "Pack 5 // 49.99$",
         "dtype": "float64",
         "stats": {
          "unique_count": 5,
          "nan_count": 0,
          "min": "2704.0",
          "max": "3391.0",
          "histogram": [
           {
            "bin_start": 2704,
            "bin_end": 2772.7,
            "count": 1
           },
           {
            "bin_start": 2772.7,
            "bin_end": 2841.4,
            "count": 2
           },
           {
            "bin_start": 2841.4,
            "bin_end": 2910.1,
            "count": 0
           },
           {
            "bin_start": 2910.1,
            "bin_end": 2978.8,
            "count": 0
           },
           {
            "bin_start": 2978.8,
            "bin_end": 3047.5,
            "count": 0
           },
           {
            "bin_start": 3047.5,
            "bin_end": 3116.2,
            "count": 0
           },
           {
            "bin_start": 3116.2,
            "bin_end": 3184.9,
            "count": 0
           },
           {
            "bin_start": 3184.9,
            "bin_end": 3253.6,
            "count": 1
           },
           {
            "bin_start": 3253.6,
            "bin_end": 3322.3,
            "count": 0
           },
           {
            "bin_start": 3322.3,
            "bin_end": 3391,
            "count": 1
           }
          ]
         }
        },
        {
         "name": "Pack 6 // 99.99$",
         "dtype": "float64",
         "stats": {
          "unique_count": 5,
          "nan_count": 0,
          "min": "4861.0",
          "max": "5868.0",
          "histogram": [
           {
            "bin_start": 4861,
            "bin_end": 4961.7,
            "count": 2
           },
           {
            "bin_start": 4961.7,
            "bin_end": 5062.4,
            "count": 1
           },
           {
            "bin_start": 5062.4,
            "bin_end": 5163.1,
            "count": 0
           },
           {
            "bin_start": 5163.1,
            "bin_end": 5263.8,
            "count": 0
           },
           {
            "bin_start": 5263.8,
            "bin_end": 5364.5,
            "count": 0
           },
           {
            "bin_start": 5364.5,
            "bin_end": 5465.2,
            "count": 0
           },
           {
            "bin_start": 5465.2,
            "bin_end": 5565.9,
            "count": 1
           },
           {
            "bin_start": 5565.9,
            "bin_end": 5666.6,
            "count": 0
           },
           {
            "bin_start": 5666.6,
            "bin_end": 5767.3,
            "count": 0
           },
           {
            "bin_start": 5767.3,
            "bin_end": 5868,
            "count": 1
           }
          ]
         }
        },
        {
         "name": "Card bundle promotion",
         "dtype": "int64",
         "stats": {
          "unique_count": 1,
          "nan_count": 0,
          "min": "0",
          "max": "0",
          "histogram": [
           {
            "bin_start": -0.5,
            "bin_end": -0.4,
            "count": 0
           },
           {
            "bin_start": -0.4,
            "bin_end": -0.3,
            "count": 0
           },
           {
            "bin_start": -0.3,
            "bin_end": -0.19999999999999996,
            "count": 0
           },
           {
            "bin_start": -0.19999999999999996,
            "bin_end": -0.09999999999999998,
            "count": 0
           },
           {
            "bin_start": -0.09999999999999998,
            "bin_end": 0,
            "count": 0
           },
           {
            "bin_start": 0,
            "bin_end": 0.10000000000000009,
            "count": 5
           },
           {
            "bin_start": 0.10000000000000009,
            "bin_end": 0.20000000000000007,
            "count": 0
           },
           {
            "bin_start": 0.20000000000000007,
            "bin_end": 0.30000000000000004,
            "count": 0
           },
           {
            "bin_start": 0.30000000000000004,
            "bin_end": 0.4,
            "count": 0
           },
           {
            "bin_start": 0.4,
            "bin_end": 0.5,
            "count": 0
           }
          ]
         }
        },
        {
         "name": "Promotions_sold",
         "dtype": "float64",
         "stats": {
          "unique_count": 1,
          "nan_count": 0,
          "min": "0.0",
          "max": "0.0",
          "histogram": [
           {
            "bin_start": -0.5,
            "bin_end": -0.4,
            "count": 0
           },
           {
            "bin_start": -0.4,
            "bin_end": -0.3,
            "count": 0
           },
           {
            "bin_start": -0.3,
            "bin_end": -0.19999999999999996,
            "count": 0
           },
           {
            "bin_start": -0.19999999999999996,
            "bin_end": -0.09999999999999998,
            "count": 0
           },
           {
            "bin_start": -0.09999999999999998,
            "bin_end": 0,
            "count": 0
           },
           {
            "bin_start": 0,
            "bin_end": 0.10000000000000009,
            "count": 5
           },
           {
            "bin_start": 0.10000000000000009,
            "bin_end": 0.20000000000000007,
            "count": 0
           },
           {
            "bin_start": 0.20000000000000007,
            "bin_end": 0.30000000000000004,
            "count": 0
           },
           {
            "bin_start": 0.30000000000000004,
            "bin_end": 0.4,
            "count": 0
           },
           {
            "bin_start": 0.4,
            "bin_end": 0.5,
            "count": 0
           }
          ]
         }
        },
        {
         "name": "Sales not in promotion",
         "dtype": "int64",
         "stats": {
          "unique_count": 5,
          "nan_count": 0,
          "min": "16067",
          "max": "19794",
          "histogram": [
           {
            "bin_start": 16067,
            "bin_end": 16439.7,
            "count": 2
           },
           {
            "bin_start": 16439.7,
            "bin_end": 16812.4,
            "count": 0
           },
           {
            "bin_start": 16812.4,
            "bin_end": 17185.1,
            "count": 1
           },
           {
            "bin_start": 17185.1,
            "bin_end": 17557.8,
            "count": 0
           },
           {
            "bin_start": 17557.8,
            "bin_end": 17930.5,
            "count": 0
           },
           {
            "bin_start": 17930.5,
            "bin_end": 18303.2,
            "count": 1
           },
           {
            "bin_start": 18303.2,
            "bin_end": 18675.9,
            "count": 0
           },
           {
            "bin_start": 18675.9,
            "bin_end": 19048.6,
            "count": 0
           },
           {
            "bin_start": 19048.6,
            "bin_end": 19421.3,
            "count": 0
           },
           {
            "bin_start": 19421.3,
            "bin_end": 19794,
            "count": 1
           }
          ]
         }
        },
        {
         "name": "Timing",
         "dtype": "object",
         "stats": {
          "unique_count": 1,
          "nan_count": 0,
          "categories": [
           {
            "name": "Previous",
            "count": 5
           }
          ]
         }
        },
        {
         "name": "_deepnote_index_column",
         "dtype": "object"
        }
       ],
       "rows": [
        {
         "Group": "control",
         "DAU": 343970,
         "Revenue": 19794,
         "PAU/DAU": 0.007492488286332694,
         "PAU": 2577,
         "ARPU": 0.0575457161961799,
         "ARPPU": 7.681024447031432,
         "Transactions": 5238.402004070827,
         "Car bundle A // 2.99$": 0,
         "Car bundle B // 6.99$": 0,
         "Car bundle C // 9.99$": 0,
         "Pack 1 // 1.99$": 1484,
         "Pack 2 // 4.99$": 1356,
         "Pack 3 // 9.99$": 2745,
         "Pack 4 // 19.99$": 4950,
         "Pack 5 // 49.99$": 3391,
         "Pack 6 // 99.99$": 5868,
         "Card bundle promotion": 0,
         "Promotions_sold": 0,
         "Sales not in promotion": 19794,
         "Timing": "Previous",
         "_deepnote_index_column": "03/01/2017"
        },
        {
         "Group": "control",
         "DAU": 340743,
         "Revenue": 16067,
         "PAU/DAU": 0.00711842712920151,
         "PAU": 2426,
         "ARPU": 0.04715283953008573,
         "ARPPU": 6.622835943940643,
         "Transactions": 4416.350040232279,
         "Car bundle A // 2.99$": 0,
         "Car bundle B // 6.99$": 0,
         "Car bundle C // 9.99$": 0,
         "Pack 1 // 1.99$": 1051,
         "Pack 2 // 4.99$": 1183,
         "Pack 3 // 9.99$": 2290,
         "Pack 4 // 19.99$": 3978,
         "Pack 5 // 49.99$": 2704,
         "Pack 6 // 99.99$": 4861,
         "Card bundle promotion": 0,
         "Promotions_sold": 0,
         "Sales not in promotion": 16067,
         "Timing": "Previous",
         "_deepnote_index_column": "03/02/2017"
        },
        {
         "Group": "control",
         "DAU": 399292,
         "Revenue": 16212,
         "PAU/DAU": 0.007807473309560984,
         "PAU": 3117,
         "ARPU": 0.0406018653015838,
         "ARPPU": 5.201154956689124,
         "Transactions": 5564.455359801203,
         "Car bundle A // 2.99$": 0,
         "Car bundle B // 6.99$": 0,
         "Car bundle C // 9.99$": 0,
         "Pack 1 // 1.99$": 977,
         "Pack 2 // 4.99$": 1205,
         "Pack 3 // 9.99$": 2208,
         "Pack 4 // 19.99$": 4078,
         "Pack 5 // 49.99$": 2827,
         "Pack 6 // 99.99$": 4917,
         "Card bundle promotion": 0,
         "Promotions_sold": 0,
         "Sales not in promotion": 16212,
         "Timing": "Previous",
         "_deepnote_index_column": "03/03/2017"
        },
        {
         "Group": "control",
         "DAU": 413060,
         "Revenue": 16824,
         "PAU/DAU": 0.007344612800722849,
         "PAU": 3034,
         "ARPU": 0.04073016026727352,
         "ARPPU": 5.545154911008569,
         "Transactions": 5485.192860238073,
         "Car bundle A // 2.99$": 0,
         "Car bundle B // 6.99$": 0,
         "Car bundle C // 9.99$": 0,
         "Pack 1 // 1.99$": 1303,
         "Pack 2 // 4.99$": 1235,
         "Pack 3 // 9.99$": 2354,
         "Pack 4 // 19.99$": 4145,
         "Pack 5 // 49.99$": 2792,
         "Pack 6 // 99.99$": 4995,
         "Card bundle promotion": 0,
         "Promotions_sold": 0,
         "Sales not in promotion": 16824,
         "Timing": "Previous",
         "_deepnote_index_column": "03/04/2017"
        },
        {
         "Group": "control",
         "DAU": 388422,
         "Revenue": 18257,
         "PAU/DAU": 0.006887352385753139,
         "PAU": 2675,
         "ARPU": 0.04700300188969729,
         "ARPPU": 6.825046728971962,
         "Transactions": 4846.145623503525,
         "Car bundle A // 2.99$": 0,
         "Car bundle B // 6.99$": 0,
         "Car bundle C // 9.99$": 0,
         "Pack 1 // 1.99$": 1065,
         "Pack 2 // 4.99$": 1298,
         "Pack 3 // 9.99$": 2535,
         "Pack 4 // 19.99$": 4619,
         "Pack 5 // 49.99$": 3188,
         "Pack 6 // 99.99$": 5552,
         "Card bundle promotion": 0,
         "Promotions_sold": 0,
         "Sales not in promotion": 18257,
         "Timing": "Previous",
         "_deepnote_index_column": "03/05/2017"
        }
       ]
      },
      "text/plain": "              Group     DAU  Revenue   PAU/DAU   PAU      ARPU     ARPPU  \\\nDate                                                                       \n03/01/2017  control  343970    19794  0.007492  2577  0.057546  7.681024   \n03/02/2017  control  340743    16067  0.007118  2426  0.047153  6.622836   \n03/03/2017  control  399292    16212  0.007807  3117  0.040602  5.201155   \n03/04/2017  control  413060    16824  0.007345  3034  0.040730  5.545155   \n03/05/2017  control  388422    18257  0.006887  2675  0.047003  6.825047   \n\n            Transactions  Car bundle A // 2.99$  Car bundle B // 6.99$  ...  \\\nDate                                                                    ...   \n03/01/2017   5238.402004                      0                      0  ...   \n03/02/2017   4416.350040                      0                      0  ...   \n03/03/2017   5564.455360                      0                      0  ...   \n03/04/2017   5485.192860                      0                      0  ...   \n03/05/2017   4846.145624                      0                      0  ...   \n\n            Pack 1 // 1.99$  Pack 2 // 4.99$  Pack 3 // 9.99$  \\\nDate                                                            \n03/01/2017           1484.0           1356.0           2745.0   \n03/02/2017           1051.0           1183.0           2290.0   \n03/03/2017            977.0           1205.0           2208.0   \n03/04/2017           1303.0           1235.0           2354.0   \n03/05/2017           1065.0           1298.0           2535.0   \n\n            Pack 4 // 19.99$  Pack 5 // 49.99$  Pack 6 // 99.99$  \\\nDate                                                               \n03/01/2017            4950.0            3391.0            5868.0   \n03/02/2017            3978.0            2704.0            4861.0   \n03/03/2017            4078.0            2827.0            4917.0   \n03/04/2017            4145.0            2792.0            4995.0   \n03/05/2017            4619.0            3188.0            5552.0   \n\n            Card bundle promotion  Promotions_sold  Sales not in promotion  \\\nDate                                                                         \n03/01/2017                      0              0.0                   19794   \n03/02/2017                      0              0.0                   16067   \n03/03/2017                      0              0.0                   16212   \n03/04/2017                      0              0.0                   16824   \n03/05/2017                      0              0.0                   18257   \n\n              Timing  \nDate                  \n03/01/2017  Previous  \n03/02/2017  Previous  \n03/03/2017  Previous  \n03/04/2017  Previous  \n03/05/2017  Previous  \n\n[5 rows x 21 columns]",
      "text/html": "<div>\n<style scoped>\n    .dataframe tbody tr th:only-of-type {\n        vertical-align: middle;\n    }\n\n    .dataframe tbody tr th {\n        vertical-align: top;\n    }\n\n    .dataframe thead th {\n        text-align: right;\n    }\n</style>\n<table border=\"1\" class=\"dataframe\">\n  <thead>\n    <tr style=\"text-align: right;\">\n      <th></th>\n      <th>Group</th>\n      <th>DAU</th>\n      <th>Revenue</th>\n      <th>PAU/DAU</th>\n      <th>PAU</th>\n      <th>ARPU</th>\n      <th>ARPPU</th>\n      <th>Transactions</th>\n      <th>Car bundle A // 2.99$</th>\n      <th>Car bundle B // 6.99$</th>\n      <th>...</th>\n      <th>Pack 1 // 1.99$</th>\n      <th>Pack 2 // 4.99$</th>\n      <th>Pack 3 // 9.99$</th>\n      <th>Pack 4 // 19.99$</th>\n      <th>Pack 5 // 49.99$</th>\n      <th>Pack 6 // 99.99$</th>\n      <th>Card bundle promotion</th>\n      <th>Promotions_sold</th>\n      <th>Sales not in promotion</th>\n      <th>Timing</th>\n    </tr>\n    <tr>\n      <th>Date</th>\n      <th></th>\n      <th></th>\n      <th></th>\n      <th></th>\n      <th></th>\n      <th></th>\n      <th></th>\n      <th></th>\n      <th></th>\n      <th></th>\n      <th></th>\n      <th></th>\n      <th></th>\n      <th></th>\n      <th></th>\n      <th></th>\n      <th></th>\n      <th></th>\n      <th></th>\n      <th></th>\n      <th></th>\n    </tr>\n  </thead>\n  <tbody>\n    <tr>\n      <th>03/01/2017</th>\n      <td>control</td>\n      <td>343970</td>\n      <td>19794</td>\n      <td>0.007492</td>\n      <td>2577</td>\n      <td>0.057546</td>\n      <td>7.681024</td>\n      <td>5238.402004</td>\n      <td>0</td>\n      <td>0</td>\n      <td>...</td>\n      <td>1484.0</td>\n      <td>1356.0</td>\n      <td>2745.0</td>\n      <td>4950.0</td>\n      <td>3391.0</td>\n      <td>5868.0</td>\n      <td>0</td>\n      <td>0.0</td>\n      <td>19794</td>\n      <td>Previous</td>\n    </tr>\n    <tr>\n      <th>03/02/2017</th>\n      <td>control</td>\n      <td>340743</td>\n      <td>16067</td>\n      <td>0.007118</td>\n      <td>2426</td>\n      <td>0.047153</td>\n      <td>6.622836</td>\n      <td>4416.350040</td>\n      <td>0</td>\n      <td>0</td>\n      <td>...</td>\n      <td>1051.0</td>\n      <td>1183.0</td>\n      <td>2290.0</td>\n      <td>3978.0</td>\n      <td>2704.0</td>\n      <td>4861.0</td>\n      <td>0</td>\n      <td>0.0</td>\n      <td>16067</td>\n      <td>Previous</td>\n    </tr>\n    <tr>\n      <th>03/03/2017</th>\n      <td>control</td>\n      <td>399292</td>\n      <td>16212</td>\n      <td>0.007807</td>\n      <td>3117</td>\n      <td>0.040602</td>\n      <td>5.201155</td>\n      <td>5564.455360</td>\n      <td>0</td>\n      <td>0</td>\n      <td>...</td>\n      <td>977.0</td>\n      <td>1205.0</td>\n      <td>2208.0</td>\n      <td>4078.0</td>\n      <td>2827.0</td>\n      <td>4917.0</td>\n      <td>0</td>\n      <td>0.0</td>\n      <td>16212</td>\n      <td>Previous</td>\n    </tr>\n    <tr>\n      <th>03/04/2017</th>\n      <td>control</td>\n      <td>413060</td>\n      <td>16824</td>\n      <td>0.007345</td>\n      <td>3034</td>\n      <td>0.040730</td>\n      <td>5.545155</td>\n      <td>5485.192860</td>\n      <td>0</td>\n      <td>0</td>\n      <td>...</td>\n      <td>1303.0</td>\n      <td>1235.0</td>\n      <td>2354.0</td>\n      <td>4145.0</td>\n      <td>2792.0</td>\n      <td>4995.0</td>\n      <td>0</td>\n      <td>0.0</td>\n      <td>16824</td>\n      <td>Previous</td>\n    </tr>\n    <tr>\n      <th>03/05/2017</th>\n      <td>control</td>\n      <td>388422</td>\n      <td>18257</td>\n      <td>0.006887</td>\n      <td>2675</td>\n      <td>0.047003</td>\n      <td>6.825047</td>\n      <td>4846.145624</td>\n      <td>0</td>\n      <td>0</td>\n      <td>...</td>\n      <td>1065.0</td>\n      <td>1298.0</td>\n      <td>2535.0</td>\n      <td>4619.0</td>\n      <td>3188.0</td>\n      <td>5552.0</td>\n      <td>0</td>\n      <td>0.0</td>\n      <td>18257</td>\n      <td>Previous</td>\n    </tr>\n  </tbody>\n</table>\n<p>5 rows × 21 columns</p>\n</div>"
     },
     "metadata": {}
    }
   ],
   "execution_count": 21
  },
  {
   "cell_type": "code",
   "source": "# Exporting processed data into a csv file\ndf.to_csv('./files/data/data_processed.csv')",
   "metadata": {
    "cell_id": "23bd64edfa964b3cb463f23745b3163a",
    "tags": [],
    "deepnote_to_be_reexecuted": false,
    "source_hash": "24f8fc6e",
    "execution_start": 1648313205082,
    "execution_millis": 64,
    "deepnote_cell_type": "code",
    "deepnote_cell_height": 99
   },
   "outputs": [],
   "execution_count": 23
  },
  {
   "cell_type": "markdown",
   "source": "<a style='text-decoration:none;line-height:16px;display:flex;color:#5B5B62;padding:10px;justify-content:end;' href='https://deepnote.com?utm_source=created-in-deepnote-cell&projectId=c0f6dcf0-1a26-4fa8-bfda-9393dc33e48a' target=\"_blank\">\n<img alt='Created in deepnote.com' style='display:inline;max-height:16px;margin:0px;margin-right:7.5px;' src='data:image/svg+xml;base64,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' > </img>\nCreated in <span style='font-weight:600;margin-left:4px;'>Deepnote</span></a>",
   "metadata": {
    "tags": [],
    "created_in_deepnote_cell": true,
    "deepnote_cell_type": "markdown"
   }
  }
 ],
 "nbformat": 4,
 "nbformat_minor": 2,
 "metadata": {
  "orig_nbformat": 2,
  "deepnote": {
   "is_reactive": false
  },
  "deepnote_notebook_id": "26a91c0c-62d8-4236-8046-efe6d9eb81a6",
  "deepnote_execution_queue": []
 }
}